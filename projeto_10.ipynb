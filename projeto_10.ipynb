{
 "cells": [
  {
   "cell_type": "code",
   "execution_count": null,
   "id": "4bb587f6",
   "metadata": {},
   "outputs": [
    {
     "name": "stdout",
     "output_type": "stream",
     "text": [
      "Você trabalhou por 10 horas no mês,e ganha R$200.0 por hora,e seu sálario no final do mês2000.0\n"
     ]
    }
   ],
   "source": [
    "horas_trabalhadas = int(input(\"Quantas horas por mês você trabalhou?\"))\n",
    "salario_por_hora = float(input(\"Quantos você recebe por hora?\"))\n",
    "\n",
    "total = horas_trabalhadas * salario_por_hora\n",
    "print(f\"Você trabalhou por {horas_trabalhadas} horas no mês,e ganha R${salario_por_hora} por hora,e seu sálario no final do mês foi{total}\")"
   ]
  }
 ],
 "metadata": {
  "kernelspec": {
   "display_name": "Python 3",
   "language": "python",
   "name": "python3"
  },
  "language_info": {
   "codemirror_mode": {
    "name": "ipython",
    "version": 3
   },
   "file_extension": ".py",
   "mimetype": "text/x-python",
   "name": "python",
   "nbconvert_exporter": "python",
   "pygments_lexer": "ipython3",
   "version": "3.13.2"
  }
 },
 "nbformat": 4,
 "nbformat_minor": 5
}
